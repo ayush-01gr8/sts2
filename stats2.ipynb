{
 "cells": [
  {
   "cell_type": "markdown",
   "id": "acc33a23-6662-4635-969c-814655fe084c",
   "metadata": {},
   "source": [
    "Q1. What are the three measures of central tendency?"
   ]
  },
  {
   "cell_type": "markdown",
   "id": "35dbe2f9-7793-4ec0-a942-34d80eaa36e2",
   "metadata": {},
   "source": [
    "Mean: The mean is the arithmetic average of a dataset. It is calculated by summing all the data values and then dividing by the total number \n",
    "of data points. The mean is a common measure used to find the typical value of a dataset.\n",
    "\n",
    "Median: The median is the middle value in an ordered dataset. If the number of data points is odd, the median is the middle value. \n",
    "If the number of data points is even, the median is the average of the two middle values. The median is robust \n",
    "to extreme values and is often used when dealing with skewed distributions.\n",
    "\n",
    "Mode: The mode is the value that occurs most frequently in a dataset. A dataset can have one mode (unimodal), two modes (bimodal),\n",
    "or more (multimodal). The mode is particularly useful for categorical data or when identifying the most common value in a dataset."
   ]
  },
  {
   "cell_type": "markdown",
   "id": "b0f9f6fd-8ce6-4398-8abc-2a8ffeb5e43e",
   "metadata": {},
   "source": [
    "Q2. What is the difference between the mean, median, and mode? How are they used to measure the\n",
    "central tendency of a dataset?"
   ]
  },
  {
   "cell_type": "markdown",
   "id": "b0621751-ccdf-4a85-ba79-e44d2d8f6522",
   "metadata": {},
   "source": [
    "Mean:\n",
    "Definition: The mean is the arithmetic average of a dataset. It is calculated by adding up all the data points and then dividing by the total\n",
    "number of data points.\n",
    "Calculation: Mean = (Sum of all data points) / (Number of data points)\n",
    "Use: The mean is commonly used when the dataset has a symmetrical distribution without significant outliers. It represents the \"average\" value\n",
    "of the dataset and considers all data points equally.\n",
    "\n",
    "\n",
    "Median:\n",
    "Definition: The median is the middle value of an ordered dataset. For an odd number of data points, the median is the value in the exact middle.\n",
    "For an even number of data points, the median is the average of the two middle values.\n",
    "Calculation: Sort the data in ascending order and find the middle value(s).\n",
    "Use: The median is robust to extreme values and is preferred when dealing with skewed distributions or datasets containing outliers. It represents\n",
    "the value that separates the lower 50% of the data from the upper 50%.\n",
    "\n",
    "\n",
    "Mode:\n",
    "Definition: The mode is the value that appears most frequently in a dataset.\n",
    "Calculation: Identify the value with the highest frequency (number of occurrences).\n",
    "Use: The mode is especially useful for categorical data or when you want to identify the most common value in a dataset. It can also be used\n",
    "with numerical data, but it is not as sensitive to the shape of the distribution as the mean or median"
   ]
  },
  {
   "cell_type": "markdown",
   "id": "02d50cf5-0cb2-45b4-8181-398c5f040cb1",
   "metadata": {},
   "source": [
    "Q3. Measure the three measures of central tendency for the given height data:\n",
    "\n",
    " [178,177,176,177,178.2,178,175,179,180,175,178.9,176.2,177,172.5,178,176.5]"
   ]
  },
  {
   "cell_type": "code",
   "execution_count": 1,
   "id": "9e7daa2b-1fc5-4ab3-9bf7-ce586ee8e5b6",
   "metadata": {},
   "outputs": [],
   "source": [
    "heights=[178,177,176,177,178.2,178,175,179,180,175,178.9,176.2,177,172.5,178,176.5]"
   ]
  },
  {
   "cell_type": "code",
   "execution_count": 2,
   "id": "ea549759-f084-49a4-9f1e-1117f6792c44",
   "metadata": {},
   "outputs": [],
   "source": [
    "import numpy as np\n"
   ]
  },
  {
   "cell_type": "code",
   "execution_count": 3,
   "id": "a71cdb83-51ef-45a3-b0a2-ca998df08d9b",
   "metadata": {},
   "outputs": [
    {
     "data": {
      "text/plain": [
       "177.01875"
      ]
     },
     "execution_count": 3,
     "metadata": {},
     "output_type": "execute_result"
    }
   ],
   "source": [
    "np.mean(heights)"
   ]
  },
  {
   "cell_type": "code",
   "execution_count": 4,
   "id": "cb3e06dd-0c36-45a7-88ce-647b0b370c42",
   "metadata": {},
   "outputs": [
    {
     "data": {
      "text/plain": [
       "177.0"
      ]
     },
     "execution_count": 4,
     "metadata": {},
     "output_type": "execute_result"
    }
   ],
   "source": [
    "np.median(heights)"
   ]
  },
  {
   "cell_type": "code",
   "execution_count": 9,
   "id": "baa13bba-3d59-4659-9d55-55c9e044f655",
   "metadata": {},
   "outputs": [],
   "source": [
    "from scipy import stats"
   ]
  },
  {
   "cell_type": "code",
   "execution_count": 11,
   "id": "d58a9b8e-bb15-4932-a501-ebbb6d1ae95a",
   "metadata": {},
   "outputs": [
    {
     "name": "stderr",
     "output_type": "stream",
     "text": [
      "/tmp/ipykernel_1771/4138256802.py:1: FutureWarning: Unlike other reduction functions (e.g. `skew`, `kurtosis`), the default behavior of `mode` typically preserves the axis it acts along. In SciPy 1.11.0, this behavior will change: the default value of `keepdims` will become False, the `axis` over which the statistic is taken will be eliminated, and the value None will no longer be accepted. Set `keepdims` to True or False to avoid this warning.\n",
      "  stats.mode(heights)\n"
     ]
    },
    {
     "data": {
      "text/plain": [
       "ModeResult(mode=array([177.]), count=array([3]))"
      ]
     },
     "execution_count": 11,
     "metadata": {},
     "output_type": "execute_result"
    }
   ],
   "source": [
    "stats.mode(heights)"
   ]
  },
  {
   "cell_type": "markdown",
   "id": "6f8f69a3-2b05-4d60-b6cd-eb4b2044d9a5",
   "metadata": {},
   "source": [
    "Q4. Find the standard deviation for the given data:\n",
    "\n",
    "[178,177,176,177,178.2,178,175,179,180,175,178.9,176.2,177,172.5,178,176.5]\n",
    "\n"
   ]
  },
  {
   "cell_type": "code",
   "execution_count": 12,
   "id": "d96954c8-9a15-41fd-9425-2337acbf6b45",
   "metadata": {},
   "outputs": [
    {
     "name": "stdout",
     "output_type": "stream",
     "text": [
      "Standard Deviation: 1.8472389305844188\n"
     ]
    }
   ],
   "source": [
    "import statistics\n",
    "\n",
    "data = [178, 177, 176, 177, 178.2, 178, 175, 179, 180, 175, 178.9, 176.2, 177, 172.5, 178, 176.5]\n",
    "\n",
    "# Calculate the standard deviation\n",
    "standard_deviation = statistics.stdev(data)\n",
    "\n",
    "print(\"Standard Deviation:\", standard_deviation)\n"
   ]
  },
  {
   "cell_type": "markdown",
   "id": "11cc1fc9-2101-4f5e-81ff-111145fb8aa4",
   "metadata": {},
   "source": [
    "Q5. How are measures of dispersion such as range, variance, and standard deviation used to describe\n",
    "the spread of a dataset? Provide an example"
   ]
  },
  {
   "cell_type": "markdown",
   "id": "7cf01ce2-6a44-4aad-90c6-c8551d98a2df",
   "metadata": {},
   "source": [
    "Range:\n",
    "The range is the simplest measure of dispersion, and it represents the difference between the maximum and minimum values in a dataset. \n",
    "It gives an idea of the total spread of data.\n",
    "Example: Consider a dataset of exam scores: [70, 75, 80, 85, 90]. The range is calculated as follows:\n",
    "    Range = Maximum value - Minimum value = 90 - 70 = 20. The range of 20 indicates that the exam scores vary from 70 to 90.\n",
    "\n",
    "Variance:\n",
    "Variance measures the average squared deviation of each data point from the mean. It quantifies how the data points are spread out from the mean.\n",
    "A higher variance indicates more spread-out data, while a lower variance indicates more\n",
    "data points clustering around the mean.\n",
    "Example: Let's take the dataset of exam scores again: [70, 75, 80, 85, 90]. First, calculate the mean: Mean = (70 + 75 + 80 + 85 + 90) / 5 = 80. \n",
    "Then, calculate the variance:\n",
    "Variance = [(70 - 80)^2 + (75 - 80)^2 + (80 - 80)^2 + (85 - 80)^2 + (90 - 80)^2] / 5 = 100\n",
    "\n",
    "Standard Deviation:\n",
    "The standard deviation is the square root of the variance. It measures the average deviation of data points from the mean.\n",
    "A lower standard deviation indicates that the data points are closer to the mean, while a higher standard deviation indicates more spread-out data.\n",
    "Example: Continuing with the exam scores dataset, the variance was found to be 100. Now, calculate the standard deviation:\n",
    "    \\Standard Deviation = √100 ≈ 10. The standard deviation of 10 indicates that the exam scores are, on average, about 10 points away from \n",
    "    the mean score of 80."
   ]
  },
  {
   "cell_type": "code",
   "execution_count": null,
   "id": "4c6b911d-beb8-4d5b-8c2b-f7f63a365d3d",
   "metadata": {},
   "outputs": [],
   "source": [
    "Q6. What is a Venn diagram?"
   ]
  },
  {
   "cell_type": "code",
   "execution_count": null,
   "id": "f6565876-9474-4a7e-9129-69e26f29c325",
   "metadata": {},
   "outputs": [],
   "source": [
    "A Venn diagram is a visual representation used to depict the relationships and similarities between different sets or groups.\n",
    "It consists of overlapping circles or ellipses, each representing a set, and the overlapping regions represent the elements that belong to multiple sets.\n",
    "The primary purpose of a Venn diagram is to illustrate the logical relationships between sets, highlighting their intersections and unique elements."
   ]
  },
  {
   "cell_type": "code",
   "execution_count": null,
   "id": "62696a1f-533b-4924-b2c9-41a60a99c98a",
   "metadata": {},
   "outputs": [],
   "source": [
    "Q7. For the two given sets A = (2,3,4,5,6,7) & B = (0,2,6,8,10). Find:\n",
    "\n",
    "(i) \tA B---------(2,6)\n",
    "\n",
    "(ii)\tA ⋃ B------(0,2,3,4,5,6,7,8,10)"
   ]
  },
  {
   "cell_type": "code",
   "execution_count": null,
   "id": "48960099-40d1-46a4-9a2d-58fce1e414d3",
   "metadata": {},
   "outputs": [],
   "source": [
    "Q8. What do you understand about skewness in data?"
   ]
  },
  {
   "cell_type": "code",
   "execution_count": null,
   "id": "856f5ff2-eadf-4b80-ab06-0c3096b8c6e8",
   "metadata": {},
   "outputs": [],
   "source": [
    "Skewness in data refers to the asymmetry or lack of symmetry in the distribution of data points around the mean.\n",
    "It is a measure of the degree to which the data deviates from a perfectly symmetrical bell-shaped curve (normal distribution). \n",
    "Skewness is an essential concept in statistics and data analysis as it provides insights into the shape of the distribution and\n",
    "the location of extreme values in the dataset."
   ]
  },
  {
   "cell_type": "code",
   "execution_count": null,
   "id": "865e0ce5-5256-4e40-ae34-e880de07f6dd",
   "metadata": {},
   "outputs": [],
   "source": [
    "Q9. If a data is right skewed then what will be the position of median with respect to mean?"
   ]
  },
  {
   "cell_type": "code",
   "execution_count": null,
   "id": "11b0df9c-48fb-49ed-9aa4-472d3d20752f",
   "metadata": {},
   "outputs": [],
   "source": [
    "In a right-skewed distribution, the majority of data points are concentrated towards the lower values, and there are a few extreme higher \n",
    "values that pull the mean towards the right.As a result, the mean is larger than the median."
   ]
  },
  {
   "cell_type": "code",
   "execution_count": null,
   "id": "3a7cd7d7-77b0-4169-bc42-e2f15334e024",
   "metadata": {},
   "outputs": [],
   "source": [
    "Q10. Explain the difference between covariance and correlation. How are these measures used in\n",
    "statistical analysis?"
   ]
  },
  {
   "cell_type": "code",
   "execution_count": null,
   "id": "4d0b18a0-eed1-4455-ada8-18a794526ebf",
   "metadata": {},
   "outputs": [],
   "source": [
    "import pandas as pd\n",
    "\n",
    "# Sample data for two variables X and Y\n",
    "data = {'X': [1, 2, 3, 4, 5], 'Y': [5, 4, 3, 2, 1]}\n",
    "df = pd.DataFrame(data)\n",
    "\n",
    "# Compute covariance\n",
    "cov_matrix = df.cov()\n",
    "\n",
    "# Compute correlation coefficient\n",
    "corr_matrix = df.corr()\n",
    "\n",
    "print(\"Covariance Matrix:\")\n",
    "print(cov_matrix)\n",
    "\n",
    "print(\"\\nCorrelation Matrix:\")\n",
    "print(corr_matrix)\n"
   ]
  },
  {
   "cell_type": "code",
   "execution_count": null,
   "id": "6f45a21b-8870-48c9-824a-ebcd08c8da0c",
   "metadata": {},
   "outputs": [],
   "source": [
    "Q11. What is the formula for calculating the sample mean? Provide an example calculation for a\n",
    "dataset."
   ]
  },
  {
   "cell_type": "code",
   "execution_count": null,
   "id": "62c4b630-8747-428d-9a3a-3c47e248edfc",
   "metadata": {},
   "outputs": [],
   "source": [
    "Sample Mean (x̄) = (Sum of all data points) / (Number of data points)"
   ]
  },
  {
   "cell_type": "code",
   "execution_count": 13,
   "id": "a06373fd-8fb1-46b3-b085-8ac2d22f3252",
   "metadata": {},
   "outputs": [
    {
     "data": {
      "text/plain": [
       "18.666666666666668"
      ]
     },
     "execution_count": 13,
     "metadata": {},
     "output_type": "execute_result"
    }
   ],
   "source": [
    "import numpy as np\n",
    "\n",
    "# Example dataset\n",
    "data = [12, 15, 18, 20, 22, 25]\n",
    "\n",
    "np.mean(data)\n"
   ]
  },
  {
   "cell_type": "code",
   "execution_count": null,
   "id": "7851de48-0b6b-4d88-87b9-fe5dd6f390a6",
   "metadata": {},
   "outputs": [],
   "source": [
    "Q12. For a normal distribution data what is the relationship between its measure of central tendency?"
   ]
  },
  {
   "cell_type": "code",
   "execution_count": null,
   "id": "f624ef38-92d6-47a9-9232-8e67c2d40310",
   "metadata": {},
   "outputs": [],
   "source": [
    "For a normal distribution, the three measures of central tendency (mean, median, and mode) are equal to each other. In other words, the mean, median, and mode of a normal distribution have the same value. \n",
    "This property is one of the key characteristics of a perfectly symmetrical normal distribution."
   ]
  },
  {
   "cell_type": "code",
   "execution_count": null,
   "id": "8dd6281e-c9c9-4ce9-ab8f-75abeb74a6b7",
   "metadata": {},
   "outputs": [],
   "source": [
    "Q13. How is covariance different from correlation?"
   ]
  },
  {
   "cell_type": "code",
   "execution_count": null,
   "id": "76d022d3-86a1-4591-93fd-5ca1a57e8055",
   "metadata": {},
   "outputs": [],
   "source": [
    "Covariance:\n",
    "Definition: Covariance measures the degree to which two variables change together. It quantifies the direction of the relationship \n",
    "(positive or negative) and the extent to which the variables vary jointly. A positive covariance indicates that when one variable increases, \n",
    "the other tends to increase as well, while a negative covariance indicates that when one variable increases, the other tends to decrease.\n",
    "Formula: The covariance between two variables X and Y with n data points is calculated as follows:\n",
    "Cov(X, Y) = Σ((Xᵢ - mean(X)) * (Yᵢ - mean(Y))) / n\n",
    "\n",
    "\n",
    "Definition: Correlation is a standardized measure of the linear relationship between two variables. It provides a value between -1 and 1,\n",
    "where -1 indicates a perfect negative linear relationship, 0 indicates no linear relationship, and 1 indicates a perfect positive linear relationship. \n",
    "orrelation quantifies not only the direction of the relationship but also the strength and the closeness of the linear association between\n",
    "the variables.\n",
    "Formula: The Pearson correlation coefficient is the most common measure of correlation. The correlation between two variables X and Y with \n",
    "n data points is calculated as follows:\n",
    "Corr(X, Y) = Cov(X, Y) / (σ(X) * σ(Y))"
   ]
  },
  {
   "cell_type": "code",
   "execution_count": null,
   "id": "ffcd4342-33b8-43df-a5d0-d93244cc7c3a",
   "metadata": {},
   "outputs": [],
   "source": [
    "Q14. How do outliers affect measures of central tendency and dispersion? Provide an example"
   ]
  },
  {
   "cell_type": "code",
   "execution_count": 14,
   "id": "64d4da24-fcf6-4091-92e4-537d13681c61",
   "metadata": {},
   "outputs": [
    {
     "name": "stdout",
     "output_type": "stream",
     "text": [
      "Dataset with Outliers: [10, 12, 15, 18, 20, 22, 25, 1000]\n",
      "Mean (with outliers): 140.25\n",
      "Median (with outliers): 19.0\n",
      "Variance (with outliers): 105617.6875\n",
      "Standard Deviation (with outliers): 324.9887498052817\n"
     ]
    }
   ],
   "source": [
    "import numpy as np\n",
    "\n",
    "# Example dataset with outliers\n",
    "data_with_outliers = [10, 12, 15, 18, 20, 22, 25, 1000]\n",
    "\n",
    "# Calculate measures of central tendency\n",
    "mean_with_outliers = np.mean(data_with_outliers)\n",
    "median_with_outliers = np.median(data_with_outliers)\n",
    "\n",
    "# Calculate measures of dispersion\n",
    "variance_with_outliers = np.var(data_with_outliers)\n",
    "std_dev_with_outliers = np.std(data_with_outliers)\n",
    "\n",
    "print(\"Dataset with Outliers:\", data_with_outliers)\n",
    "print(\"Mean (with outliers):\", mean_with_outliers)\n",
    "print(\"Median (with outliers):\", median_with_outliers)\n",
    "print(\"Variance (with outliers):\", variance_with_outliers)\n",
    "print(\"Standard Deviation (with outliers):\", std_dev_with_outliers)\n"
   ]
  },
  {
   "cell_type": "code",
   "execution_count": null,
   "id": "44dc0da0-485a-42f4-b6a7-70222b3d892c",
   "metadata": {},
   "outputs": [],
   "source": []
  }
 ],
 "metadata": {
  "kernelspec": {
   "display_name": "Python 3 (ipykernel)",
   "language": "python",
   "name": "python3"
  },
  "language_info": {
   "codemirror_mode": {
    "name": "ipython",
    "version": 3
   },
   "file_extension": ".py",
   "mimetype": "text/x-python",
   "name": "python",
   "nbconvert_exporter": "python",
   "pygments_lexer": "ipython3",
   "version": "3.10.8"
  }
 },
 "nbformat": 4,
 "nbformat_minor": 5
}
